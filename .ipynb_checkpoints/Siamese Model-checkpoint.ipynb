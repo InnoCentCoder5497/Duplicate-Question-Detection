{
 "cells": [
  {
   "cell_type": "code",
   "execution_count": 1,
   "metadata": {},
   "outputs": [],
   "source": [
    "import pandas as pd\n",
    "import numpy as np\n",
    "\n",
    "from nltk import word_tokenize\n",
    "from sklearn.model_selection import train_test_split\n",
    "\n",
    "from collections import defaultdict"
   ]
  },
  {
   "cell_type": "code",
   "execution_count": 2,
   "metadata": {},
   "outputs": [],
   "source": [
    "dataset = pd.read_csv('questions.csv')\n",
    "dataset.question1 = dataset.question1.str.lower()\n",
    "dataset.question2 = dataset.question2.str.lower()\n",
    "\n",
    "train, test_set = train_test_split(dataset, test_size = 0.2, shuffle = True)"
   ]
  },
  {
   "cell_type": "code",
   "execution_count": 3,
   "metadata": {},
   "outputs": [
    {
     "name": "stdout",
     "output_type": "stream",
     "text": [
      "Train and val set size : 323480\n",
      "Test set size : 80871\n"
     ]
    }
   ],
   "source": [
    "print(\"Train and val set size : {}\".format(len(train)))\n",
    "print(\"Test set size : {}\".format(len(test_set)))"
   ]
  },
  {
   "cell_type": "code",
   "execution_count": 4,
   "metadata": {},
   "outputs": [
    {
     "name": "stdout",
     "output_type": "stream",
     "text": [
      "Total data to train and validate on : 119508\n"
     ]
    }
   ],
   "source": [
    "data_to_train_on = train[train['is_duplicate'] == 1]\n",
    "\n",
    "print(\"Total data to train and validate on : {}\".format(len(data_to_train_on)))"
   ]
  },
  {
   "cell_type": "code",
   "execution_count": 5,
   "metadata": {},
   "outputs": [
    {
     "name": "stdout",
     "output_type": "stream",
     "text": [
      "Train set size : 95606\n",
      "Val set size : 23902\n"
     ]
    }
   ],
   "source": [
    "train_set, val_set = train_test_split(data_to_train_on, test_size = 0.2, shuffle = True)\n",
    "\n",
    "print(\"Train set size : {}\".format(len(train_set)))\n",
    "print(\"Val set size : {}\".format(len(val_set)))"
   ]
  },
  {
   "cell_type": "code",
   "execution_count": 6,
   "metadata": {},
   "outputs": [],
   "source": [
    "def preprocess_sentence(sent):\n",
    "    return word_tokenize(sent)"
   ]
  },
  {
   "cell_type": "code",
   "execution_count": 7,
   "metadata": {},
   "outputs": [],
   "source": [
    "q1, q2 = train_set.question1.values, train_set.question2.values"
   ]
  },
  {
   "cell_type": "code",
   "execution_count": 8,
   "metadata": {},
   "outputs": [],
   "source": [
    "q1_list = []\n",
    "q2_list = []\n",
    "\n",
    "vocab_dict = defaultdict(int)\n",
    "vocab_dict['<pad>'] = 1\n",
    "\n",
    "for sentence1, sentence2 in zip(q1, q2):\n",
    "    tokens1 = word_tokenize(sentence1)\n",
    "    tokens2 = word_tokenize(sentence2)\n",
    "    \n",
    "    q1_list.append(tokens1)\n",
    "    q2_list.append(tokens2)\n",
    "    \n",
    "    for word in tokens1 + tokens2:\n",
    "        if vocab_dict[word] == 0:\n",
    "            vocab_dict[word] = len(vocab_dict)"
   ]
  },
  {
   "cell_type": "code",
   "execution_count": 9,
   "metadata": {},
   "outputs": [
    {
     "name": "stdout",
     "output_type": "stream",
     "text": [
      "Number of words in vocabulary : 28071\n"
     ]
    }
   ],
   "source": [
    "print(\"Number of words in vocabulary : {}\".format(len(vocab_dict)))"
   ]
  },
  {
   "cell_type": "code",
   "execution_count": 10,
   "metadata": {},
   "outputs": [],
   "source": [
    "from torch.utils.data import Dataset, DataLoader"
   ]
  },
  {
   "cell_type": "code",
   "execution_count": 11,
   "metadata": {},
   "outputs": [],
   "source": [
    "class DQDataset(Dataset):\n",
    "    def __init__(self, q1, q2, vocab):\n",
    "        self.q1 = q1\n",
    "        self.q2 = q2\n",
    "        self.vocab = vocab\n",
    "        \n",
    "    def __len__(self):\n",
    "        return len(self.q1)\n",
    "    \n",
    "    def __getitem__(self, idx):\n",
    "        input1 = [self.vocab[word] for word in self.q1[idx]]\n",
    "        input2 = [self.vocab[word] for word in self.q2[idx]]\n",
    "        \n",
    "        return {'q1' : input1, 'q2' : input2}"
   ]
  },
  {
   "cell_type": "code",
   "execution_count": 12,
   "metadata": {},
   "outputs": [],
   "source": [
    "dset = DQDataset(q1_list, q2_list, vocab_dict)"
   ]
  },
  {
   "cell_type": "code",
   "execution_count": 13,
   "metadata": {},
   "outputs": [],
   "source": [
    "import torch"
   ]
  },
  {
   "cell_type": "code",
   "execution_count": 14,
   "metadata": {},
   "outputs": [],
   "source": [
    "def collate_fn(batch):\n",
    "    q1 = []\n",
    "    q2 = []\n",
    "    q1_len = []\n",
    "    q2_len = []\n",
    "    \n",
    "    bs = len(batch)\n",
    "    \n",
    "    for questions in batch:\n",
    "        q1.append(questions['q1'])\n",
    "        q2.append(questions['q2'])\n",
    "        \n",
    "        q1_len.append(len(questions['q1']))\n",
    "        q2_len.append(len(questions['q2']))\n",
    "    \n",
    "    max_len = max(max(q1_len), max(q2_len))\n",
    "    \n",
    "    q1_batch = np.ones([bs, max_len], dtype=np.long)\n",
    "    q2_batch = np.ones([bs, max_len], dtype=np.long)\n",
    "    \n",
    "    for i, (in1, in2) in enumerate(zip(q1, q2)):\n",
    "        q1_batch[i, :q1_len[i]] = in1\n",
    "        q2_batch[i, :q2_len[i]] = in2\n",
    "        \n",
    "    return {'q1' : torch.LongTensor(q1_batch), 'q2' : torch.LongTensor(q2_batch)}"
   ]
  },
  {
   "cell_type": "code",
   "execution_count": 15,
   "metadata": {},
   "outputs": [],
   "source": [
    "dl = DataLoader(dset, batch_size=32, collate_fn=collate_fn)"
   ]
  },
  {
   "cell_type": "code",
   "execution_count": 16,
   "metadata": {},
   "outputs": [
    {
     "data": {
      "text/plain": [
       "{'q1': tensor([[  2,   3,   4,   5,   6,   7,   8,   9,   1,   1,   1,   1,   1,   1,\n",
       "            1,   1,   1,   1,   1,   1,   1,   1,   1],\n",
       "         [  2,   3,   4,   5,  11,  12,  13,  14,  15,  16,  17,   9,   1,   1,\n",
       "            1,   1,   1,   1,   1,   1,   1,   1,   1],\n",
       "         [  2,   3,   4,   5,  19,  20,  21,   9,   1,   1,   1,   1,   1,   1,\n",
       "            1,   1,   1,   1,   1,   1,   1,   1,   1],\n",
       "         [  2,   3,   4,   5,  24,  20,  25,  26,   9,   1,   1,   1,   1,   1,\n",
       "            1,   1,   1,   1,   1,   1,   1,   1,   1],\n",
       "         [ 29,  30,  31,  32,  33,  34,  35,  36,  18,  37,   9,   1,   1,   1,\n",
       "            1,   1,   1,   1,   1,   1,   1,   1,   1],\n",
       "         [  2,  38,  39,  40,  41,  42,  43,   9,   1,   1,   1,   1,   1,   1,\n",
       "            1,   1,   1,   1,   1,   1,   1,   1,   1],\n",
       "         [ 30,  46,  47,  48,  49,  50,   9,  51,  52,  53,  13,  54,  55,   9,\n",
       "            1,   1,   1,   1,   1,   1,   1,   1,   1],\n",
       "         [ 29,  30,  59,  60,  61,  62,  63,   9,   1,   1,   1,   1,   1,   1,\n",
       "            1,   1,   1,   1,   1,   1,   1,   1,   1],\n",
       "         [  3,  67,  68,  69,  70,   9,   1,   1,   1,   1,   1,   1,   1,   1,\n",
       "            1,   1,   1,   1,   1,   1,   1,   1,   1],\n",
       "         [ 29,  77,  31,  78,  79,  80,  81,  82,   9,   1,   1,   1,   1,   1,\n",
       "            1,   1,   1,   1,   1,   1,   1,   1,   1],\n",
       "         [ 29,  87,  31,  88,  71,  89,  20,   4,  90,  91,  92,  81,  93,   9,\n",
       "            1,   1,   1,   1,   1,   1,   1,   1,   1],\n",
       "         [ 29,  30,  31,  95,  96,  16,  97,   9,   1,   1,   1,   1,   1,   1,\n",
       "            1,   1,   1,   1,   1,   1,   1,   1,   1],\n",
       "         [  2,  22,   4, 101, 102, 103,  27, 104, 105,   9,   1,   1,   1,   1,\n",
       "            1,   1,   1,   1,   1,   1,   1,   1,   1],\n",
       "         [  2,  30, 110,  76,  18, 111, 112, 113,   4, 114,  18,   4, 115,   9,\n",
       "            1,   1,   1,   1,   1,   1,   1,   1,   1],\n",
       "         [ 29,  30,  31,  28,  20, 119,   9,   1,   1,   1,   1,   1,   1,   1,\n",
       "            1,   1,   1,   1,   1,   1,   1,   1,   1],\n",
       "         [  3,  13, 120, 121, 122, 123,   9,   1,   1,   1,   1,   1,   1,   1,\n",
       "            1,   1,   1,   1,   1,   1,   1,   1,   1],\n",
       "         [  2, 126,  27, 127, 128, 129,  59, 130,   4, 131, 132, 133,   9,   1,\n",
       "            1,   1,   1,   1,   1,   1,   1,   1,   1],\n",
       "         [136,   4, 137, 138, 139, 140, 141, 142, 143,   9,   1,   1,   1,   1,\n",
       "            1,   1,   1,   1,   1,   1,   1,   1,   1],\n",
       "         [  2, 147, 148, 149,  62, 150,   9,   1,   1,   1,   1,   1,   1,   1,\n",
       "            1,   1,   1,   1,   1,   1,   1,   1,   1],\n",
       "         [153,   3,   4,   5, 154, 155, 156,   9,   1,   1,   1,   1,   1,   1,\n",
       "            1,   1,   1,   1,   1,   1,   1,   1,   1],\n",
       "         [ 44,  30, 158, 159, 160, 161, 162, 163, 164, 165, 162, 166,   9,   1,\n",
       "            1,   1,   1,   1,   1,   1,   1,   1,   1],\n",
       "         [ 29,  30,  59, 167, 140, 168, 169, 170, 171,  62, 172,  71, 173,   9,\n",
       "            1,   1,   1,   1,   1,   1,   1,   1,   1],\n",
       "         [  2,   3, 127, 176, 177,  18, 178, 179, 107,  44,   9,   1,   1,   1,\n",
       "            1,   1,   1,   1,   1,   1,   1,   1,   1],\n",
       "         [ 77,  31, 181,  32, 182,  71, 183, 184,   9,   1,   1,   1,   1,   1,\n",
       "            1,   1,   1,   1,   1,   1,   1,   1,   1],\n",
       "         [ 29, 186,  31, 187,  71, 188,   9,   1,   1,   1,   1,   1,   1,   1,\n",
       "            1,   1,   1,   1,   1,   1,   1,   1,   1],\n",
       "         [  2, 190,   4, 191, 192,  18,   4, 193, 194, 162, 107,  29,  30, 195,\n",
       "          192, 196,  27,   4, 197, 194,  16, 198,   9],\n",
       "         [202, 203,  18, 204,  29, 205, 148, 206,  27, 207, 127, 208,   9,   1,\n",
       "            1,   1,   1,   1,   1,   1,   1,   1,   1],\n",
       "         [  2,   3,   4,   5, 210,  59, 211, 181, 212,   9,   1,   1,   1,   1,\n",
       "            1,   1,   1,   1,   1,   1,   1,   1,   1],\n",
       "         [  2,   3, 216, 217,   9,   1,   1,   1,   1,   1,   1,   1,   1,   1,\n",
       "            1,   1,   1,   1,   1,   1,   1,   1,   1],\n",
       "         [ 29,  30,  31, 218, 140, 219, 220,   9,   1,   1,   1,   1,   1,   1,\n",
       "            1,   1,   1,   1,   1,   1,   1,   1,   1],\n",
       "         [  3, 223,  85, 224, 225,  27, 226, 227, 228,   9,   1,   1,   1,   1,\n",
       "            1,   1,   1,   1,   1,   1,   1,   1,   1],\n",
       "         [  2,   3,   4, 230,  18, 231,   9,   1,   1,   1,   1,   1,   1,   1,\n",
       "            1,   1,   1,   1,   1,   1,   1,   1,   1]]),\n",
       " 'q2': tensor([[  2,   3,   6,   7,  10,   5,   8,   9,   1,   1,   1,   1,   1,   1,\n",
       "            1,   1,   1,   1,   1,   1,   1,   1,   1],\n",
       "         [  2,   3,   4,   5,  11,  16,   4,  15,  18,  14,  16,  17,   9,   1,\n",
       "            1,   1,   1,   1,   1,   1,   1,   1,   1],\n",
       "         [  2,  22,   4,   5,  21,  23,   9,   1,   1,   1,   1,   1,   1,   1,\n",
       "            1,   1,   1,   1,   1,   1,   1,   1,   1],\n",
       "         [  2,   3,   4,   5,  24,  27,  28,  20,  25,  26,   9,   1,   1,   1,\n",
       "            1,   1,   1,   1,   1,   1,   1,   1,   1],\n",
       "         [ 29,  30,  31,  32,  34,  35,  36,  18,  37,   9,   1,   1,   1,   1,\n",
       "            1,   1,   1,   1,   1,   1,   1,   1,   1],\n",
       "         [ 44,   3,   4,  39,  40,  18,   4,  41,   3,  45,   9,   1,   1,   1,\n",
       "            1,   1,   1,   1,   1,   1,   1,   1,   1],\n",
       "         [  2,  22,   4,  56,  57,  46,  47,  58,  48,  49,   9,   1,   1,   1,\n",
       "            1,   1,   1,   1,   1,   1,   1,   1,   1],\n",
       "         [  2,   3,   4,  64,  65,  27,  60,  61,  62,  66,   9,   1,   1,   1,\n",
       "            1,   1,   1,   1,   1,   1,   1,   1,   1],\n",
       "         [ 71,  72,   3,  67,  68,   3,  73,  69,   4,  74,  75,   2,  30,  59,\n",
       "           76,   9,   1,   1,   1,   1,   1,   1,   1],\n",
       "         [ 29,  30,  31,  83,  79,  81,  84,  85,  86,   9,   1,   1,   1,   1,\n",
       "            1,   1,   1,   1,   1,   1,   1,   1,   1],\n",
       "         [ 29,  30,  31,  88,  94,  20,  90,  91,  92,  81,  93,   9,   1,   1,\n",
       "            1,   1,   1,   1,   1,   1,   1,   1,   1],\n",
       "         [ 29,  30,  59,  95,  96,  98,  13,  99, 100,   9,   1,   1,   1,   1,\n",
       "            1,   1,   1,   1,   1,   1,   1,   1,   1],\n",
       "         [  2,  10, 106, 107, 108, 103,  27, 109, 105,   9,   1,   1,   1,   1,\n",
       "            1,   1,   1,   1,   1,   1,   1,   1,   1],\n",
       "         [ 29,  30, 110, 116, 117,   4, 118,  18, 111, 112,  20, 114,  18,   4,\n",
       "          115,   9,   1,   1,   1,   1,   1,   1,   1],\n",
       "         [ 29,  77,  31,  28,  20, 119,   9,   1,   1,   1,   1,   1,   1,   1,\n",
       "            1,   1,   1,   1,   1,   1,   1,   1,   1],\n",
       "         [ 29, 124,   3, 121, 122, 125,   9,   1,   1,   1,   1,   1,   1,   1,\n",
       "            1,   1,   1,   1,   1,   1,   1,   1,   1],\n",
       "         [  2, 126,  27, 127, 128, 129,  59, 130,   4, 134, 135,   9,   1,   1,\n",
       "            1,   1,   1,   1,   1,   1,   1,   1,   1],\n",
       "         [144, 145,  57, 137, 138,   3,  13, 142, 143,  75,   3,  57, 146,   9,\n",
       "            1,   1,   1,   1,   1,   1,   1,   1,   1],\n",
       "         [  2,  77, 151, 149,  62, 152,   9,   1,   1,   1,   1,   1,   1,   1,\n",
       "            1,   1,   1,   1,   1,   1,   1,   1,   1],\n",
       "         [  2,  10,   4,   5, 157,  20, 154, 155,   9,   1,   1,   1,   1,   1,\n",
       "            1,   1,   1,   1,   1,   1,   1,   1,   1],\n",
       "         [ 44,  30, 159, 160, 161, 166,   9,   1,   1,   1,   1,   1,   1,   1,\n",
       "            1,   1,   1,   1,   1,   1,   1,   1,   1],\n",
       "         [ 29,  30,  59, 167, 127, 174, 175, 171,  62, 172, 127, 173,   9,   1,\n",
       "            1,   1,   1,   1,   1,   1,   1,   1,   1],\n",
       "         [  2,  10, 127, 176, 177,  39, 180,   9,   1,   1,   1,   1,   1,   1,\n",
       "            1,   1,   1,   1,   1,   1,   1,   1,   1],\n",
       "         [ 29,  30,  31,  32, 182,  71, 183, 107,   4, 185, 184,   9,   1,   1,\n",
       "            1,   1,   1,   1,   1,   1,   1,   1,   1],\n",
       "         [  2,  22,   4, 103,  27, 189, 188,   9,   1,   1,   1,   1,   1,   1,\n",
       "            1,   1,   1,   1,   1,   1,   1,   1,   1],\n",
       "         [  2, 190,   4, 191, 192,  18,   4, 193, 194, 162, 107,  29,  30, 195,\n",
       "          192, 196,  27,   4, 199, 200,  16, 201,   9],\n",
       "         [ 29, 205,  38, 209, 204,  95,  16, 127, 208,   9,   1,   1,   1,   1,\n",
       "            1,   1,   1,   1,   1,   1,   1,   1,   1],\n",
       "         [  2,   3,   4,   5, 213, 214,  59, 215, 181, 212,   9,   1,   1,   1,\n",
       "            1,   1,   1,   1,   1,   1,   1,   1,   1],\n",
       "         [  2,   3,  13, 216, 217,   9,   1,   1,   1,   1,   1,   1,   1,   1,\n",
       "            1,   1,   1,   1,   1,   1,   1,   1,   1],\n",
       "         [221,  77,  31, 218, 140, 222, 220,   9,   1,   1,   1,   1,   1,   1,\n",
       "            1,   1,   1,   1,   1,   1,   1,   1,   1],\n",
       "         [  2,   3,   4, 229, 225, 225,  20, 227, 228,   9,   1,   1,   1,   1,\n",
       "            1,   1,   1,   1,   1,   1,   1,   1,   1],\n",
       "         [  2,   3,   4, 230,  18, 231, 107,   2,   3,  53, 232,   9,   1,   1,\n",
       "            1,   1,   1,   1,   1,   1,   1,   1,   1]])}"
      ]
     },
     "execution_count": 16,
     "metadata": {},
     "output_type": "execute_result"
    }
   ],
   "source": [
    "next(iter(dl))"
   ]
  }
 ],
 "metadata": {
  "kernelspec": {
   "display_name": "Python 3",
   "language": "python",
   "name": "python3"
  },
  "language_info": {
   "codemirror_mode": {
    "name": "ipython",
    "version": 3
   },
   "file_extension": ".py",
   "mimetype": "text/x-python",
   "name": "python",
   "nbconvert_exporter": "python",
   "pygments_lexer": "ipython3",
   "version": "3.8.3"
  }
 },
 "nbformat": 4,
 "nbformat_minor": 4
}
