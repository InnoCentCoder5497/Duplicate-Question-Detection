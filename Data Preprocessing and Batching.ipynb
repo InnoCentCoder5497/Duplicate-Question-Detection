{
 "cells": [
  {
   "cell_type": "code",
   "execution_count": 1,
   "metadata": {},
   "outputs": [],
   "source": [
    "import pandas as pd\n",
    "import numpy as np\n",
    "\n",
    "from nltk import word_tokenize\n",
    "from sklearn.model_selection import train_test_split\n",
    "\n",
    "from collections import defaultdict"
   ]
  },
  {
   "cell_type": "code",
   "execution_count": 2,
   "metadata": {},
   "outputs": [],
   "source": [
    "dataset = pd.read_csv('questions.csv')\n",
    "dataset.question1 = dataset.question1.str.lower()\n",
    "dataset.question2 = dataset.question2.str.lower()\n",
    "\n",
    "train, test_set = train_test_split(dataset, test_size = 0.2, shuffle = True)"
   ]
  },
  {
   "cell_type": "code",
   "execution_count": 3,
   "metadata": {},
   "outputs": [
    {
     "name": "stdout",
     "output_type": "stream",
     "text": [
      "Train and val set size : 323480\n",
      "Test set size : 80871\n"
     ]
    }
   ],
   "source": [
    "print(\"Train and val set size : {}\".format(len(train)))\n",
    "print(\"Test set size : {}\".format(len(test_set)))"
   ]
  },
  {
   "cell_type": "code",
   "execution_count": 4,
   "metadata": {},
   "outputs": [
    {
     "name": "stdout",
     "output_type": "stream",
     "text": [
      "Total data to train and validate on : 119506\n"
     ]
    }
   ],
   "source": [
    "data_to_train_on = train[train['is_duplicate'] == 1]\n",
    "\n",
    "print(\"Total data to train and validate on : {}\".format(len(data_to_train_on)))"
   ]
  },
  {
   "cell_type": "code",
   "execution_count": 5,
   "metadata": {},
   "outputs": [
    {
     "name": "stdout",
     "output_type": "stream",
     "text": [
      "Train set size : 95604\n",
      "Val set size : 23902\n"
     ]
    }
   ],
   "source": [
    "train_set, val_set = train_test_split(data_to_train_on, test_size = 0.2, shuffle = True)\n",
    "\n",
    "print(\"Train set size : {}\".format(len(train_set)))\n",
    "print(\"Val set size : {}\".format(len(val_set)))"
   ]
  },
  {
   "cell_type": "code",
   "execution_count": 6,
   "metadata": {},
   "outputs": [],
   "source": [
    "def preprocess_sentence(sent):\n",
    "    return word_tokenize(sent)"
   ]
  },
  {
   "cell_type": "code",
   "execution_count": 7,
   "metadata": {},
   "outputs": [],
   "source": [
    "q1, q2 = train_set.question1.values, train_set.question2.values"
   ]
  },
  {
   "cell_type": "code",
   "execution_count": 8,
   "metadata": {},
   "outputs": [],
   "source": [
    "q1_list = []\n",
    "q2_list = []\n",
    "\n",
    "vocab_dict = defaultdict(int)\n",
    "vocab_dict['<pad>'] = 1\n",
    "\n",
    "for sentence1, sentence2 in zip(q1, q2):\n",
    "    tokens1 = word_tokenize(sentence1)\n",
    "    tokens2 = word_tokenize(sentence2)\n",
    "    \n",
    "    q1_list.append(tokens1)\n",
    "    q2_list.append(tokens2)\n",
    "    \n",
    "    for word in tokens1 + tokens2:\n",
    "        if vocab_dict[word] == 0:\n",
    "            vocab_dict[word] = len(vocab_dict)"
   ]
  },
  {
   "cell_type": "code",
   "execution_count": 9,
   "metadata": {},
   "outputs": [
    {
     "name": "stdout",
     "output_type": "stream",
     "text": [
      "Number of words in vocabulary : 27975\n"
     ]
    }
   ],
   "source": [
    "print(\"Number of words in vocabulary : {}\".format(len(vocab_dict)))"
   ]
  },
  {
   "cell_type": "code",
   "execution_count": 10,
   "metadata": {},
   "outputs": [],
   "source": [
    "from torch.utils.data import Dataset, DataLoader"
   ]
  },
  {
   "cell_type": "code",
   "execution_count": 11,
   "metadata": {},
   "outputs": [],
   "source": [
    "class DQDataset(Dataset):\n",
    "    def __init__(self, q1, q2, vocab):\n",
    "        self.q1 = q1\n",
    "        self.q2 = q2\n",
    "        self.vocab = vocab\n",
    "        \n",
    "    def __len__(self):\n",
    "        return len(self.q1)\n",
    "    \n",
    "    def __getitem__(self, idx):\n",
    "        input1 = [self.vocab[word] for word in self.q1[idx]]\n",
    "        input2 = [self.vocab[word] for word in self.q2[idx]]\n",
    "        \n",
    "        return {'q1' : input1, 'q2' : input2}"
   ]
  },
  {
   "cell_type": "code",
   "execution_count": 12,
   "metadata": {},
   "outputs": [],
   "source": [
    "dset = DQDataset(q1_list, q2_list, vocab_dict)"
   ]
  },
  {
   "cell_type": "code",
   "execution_count": 13,
   "metadata": {},
   "outputs": [],
   "source": [
    "import torch"
   ]
  },
  {
   "cell_type": "code",
   "execution_count": 14,
   "metadata": {},
   "outputs": [],
   "source": [
    "def collate_fn(batch):\n",
    "    q1 = []\n",
    "    q2 = []\n",
    "    q1_len = []\n",
    "    q2_len = []\n",
    "    \n",
    "    bs = len(batch)\n",
    "    \n",
    "    for questions in batch:\n",
    "        q1.append(questions['q1'])\n",
    "        q2.append(questions['q2'])\n",
    "        \n",
    "        q1_len.append(len(questions['q1']))\n",
    "        q2_len.append(len(questions['q2']))\n",
    "    \n",
    "    max_len = max(max(q1_len), max(q2_len))\n",
    "    \n",
    "    q1_batch = np.ones([bs, max_len], dtype=np.long)\n",
    "    q2_batch = np.ones([bs, max_len], dtype=np.long)\n",
    "    \n",
    "    for i, (in1, in2) in enumerate(zip(q1, q2)):\n",
    "        q1_batch[i, :q1_len[i]] = in1\n",
    "        q2_batch[i, :q2_len[i]] = in2\n",
    "        \n",
    "    return {'q1' : torch.LongTensor(q1_batch), 'q2' : torch.LongTensor(q2_batch)}"
   ]
  },
  {
   "cell_type": "code",
   "execution_count": 15,
   "metadata": {},
   "outputs": [],
   "source": [
    "dl = DataLoader(dset, batch_size=32, collate_fn=collate_fn)"
   ]
  },
  {
   "cell_type": "code",
   "execution_count": 16,
   "metadata": {},
   "outputs": [
    {
     "data": {
      "text/plain": [
       "{'q1': tensor([[  2,   3,   4,   5,   6,   7,   8,   9,  10,   4,   5,  11,  12,  13,\n",
       "           14,   1,   1,   1,   1,   1,   1,   1,   1,   1,   1,   1],\n",
       "         [ 18,  19,  20,  21,  22,  14,   1,   1,   1,   1,   1,   1,   1,   1,\n",
       "            1,   1,   1,   1,   1,   1,   1,   1,   1,   1,   1,   1],\n",
       "         [ 25,  26,  27,  28,  29,  23,  30,  31,  14,   1,   1,   1,   1,   1,\n",
       "            1,   1,   1,   1,   1,   1,   1,   1,   1,   1,   1,   1],\n",
       "         [ 25,  32,  27,  33,  34,  35,  12,  34,  36,  37,  14,   1,   1,   1,\n",
       "            1,   1,   1,   1,   1,   1,   1,   1,   1,   1,   1,   1],\n",
       "         [ 25,  43,  27,  46,  47,  48,  14,   1,   1,   1,   1,   1,   1,   1,\n",
       "            1,   1,   1,   1,   1,   1,   1,   1,   1,   1,   1,   1],\n",
       "         [ 13,  50,  51,  52,  27,  16,  41,  53,  54,  55,  53,  56,  57,  58,\n",
       "           14,   1,   1,   1,   1,   1,   1,   1,   1,   1,   1,   1],\n",
       "         [  2,  61,  62,  63,  64,  12,  65,   9,  25,  59,  56,  66,  67,  68,\n",
       "           69,  14,   1,   1,   1,   1,   1,   1,   1,   1,   1,   1],\n",
       "         [ 10,  19,  23,  47,  74,  75,  76,  57,  77,  14,   1,   1,   1,   1,\n",
       "            1,   1,   1,   1,   1,   1,   1,   1,   1,   1,   1,   1],\n",
       "         [ 10,  79,  80,  81,  82,  41,  83,  14,   1,   1,   1,   1,   1,   1,\n",
       "            1,   1,   1,   1,   1,   1,   1,   1,   1,   1,   1,   1],\n",
       "         [ 10,  88,  89,  90,   5,  91,  92,  93,  12,  94,  14,   1,   1,   1,\n",
       "            1,   1,   1,   1,   1,   1,   1,   1,   1,   1,   1,   1],\n",
       "         [ 25,  50,   7,  98,  54,  99, 100,  14,   1,   1,   1,   1,   1,   1,\n",
       "            1,   1,   1,   1,   1,   1,   1,   1,   1,   1,   1,   1],\n",
       "         [ 10,  79,  23,  47, 101, 102, 103,  17, 104, 105, 102, 106,  14,   1,\n",
       "            1,   1,   1,   1,   1,   1,   1,   1,   1,   1,   1,   1],\n",
       "         [ 10,  79,  23, 109, 110, 111,  57,  58,  14,   1,   1,   1,   1,   1,\n",
       "            1,   1,   1,   1,   1,   1,   1,   1,   1,   1,   1,   1],\n",
       "         [113,  34, 114, 115,  12, 116, 115, 117,  25,  26,  27, 118, 119, 114,\n",
       "           14,   1,   1,   1,   1,   1,   1,   1,   1,   1,   1,   1],\n",
       "         [126,  26,  27, 120, 127, 128,  57, 129, 130,  29, 131,  14,   1,   1,\n",
       "            1,   1,   1,   1,   1,   1,   1,   1,   1,   1,   1,   1],\n",
       "         [ 10,  79,  23, 134, 135, 136, 137, 138,  14,   1,   1,   1,   1,   1,\n",
       "            1,   1,   1,   1,   1,   1,   1,   1,   1,   1,   1,   1],\n",
       "         [ 10, 141,  23, 109, 142, 143,  21,  23, 144,  61,  14,   1,   1,   1,\n",
       "            1,   1,   1,   1,   1,   1,   1,   1,   1,   1,   1,   1],\n",
       "         [ 25,  59,  23, 146,  21, 147, 148,  12, 149, 150, 151, 152,  29, 153,\n",
       "          154,  23, 155, 156,  14,   1,   1,   1,   1,   1,   1,   1],\n",
       "         [ 10,  19,  54, 161, 162,  12,  25,  50,  56, 163,  14,   1,   1,   1,\n",
       "            1,   1,   1,   1,   1,   1,   1,   1,   1,   1,   1,   1],\n",
       "         [ 25,  43,  27, 164,   2,  27, 165,  54, 166,  14,   1,   1,   1,   1,\n",
       "            1,   1,   1,   1,   1,   1,   1,   1,   1,   1,   1,   1],\n",
       "         [ 10,  79,  23, 168, 169,  57, 170, 171, 172, 173,  23, 174,  29, 175,\n",
       "           12, 176, 177, 178,   9, 179,  12, 180,  29,  23, 181,  14],\n",
       "         [ 10,  79,  23, 183,  11, 184,  29,  23, 185,  14,   1,   1,   1,   1,\n",
       "            1,   1,   1,   1,   1,   1,   1,   1,   1,   1,   1,   1],\n",
       "         [ 10,  19,  23, 187,  63, 188,  12, 189, 190,  14,   1,   1,   1,   1,\n",
       "            1,   1,   1,   1,   1,   1,   1,   1,   1,   1,   1,   1],\n",
       "         [ 13, 192,  51,  64, 120, 193, 194,  29, 176, 195,  14,   1,   1,   1,\n",
       "            1,   1,   1,   1,   1,   1,   1,   1,   1,   1,   1,   1],\n",
       "         [ 25,  26,  27, 199,  10,  27, 200,  29, 201,  14,   1,   1,   1,   1,\n",
       "            1,   1,   1,   1,   1,   1,   1,   1,   1,   1,   1,   1],\n",
       "         [ 25,  43,  27, 202,  34, 203,  14,   1,   1,   1,   1,   1,   1,   1,\n",
       "            1,   1,   1,   1,   1,   1,   1,   1,   1,   1,   1,   1],\n",
       "         [206,  23, 207, 208, 209, 210,  14,   1,   1,   1,   1,   1,   1,   1,\n",
       "            1,   1,   1,   1,   1,   1,   1,   1,   1,   1,   1,   1],\n",
       "         [ 25, 206, 215, 216, 217,  20,  14,   1,   1,   1,   1,   1,   1,   1,\n",
       "            1,   1,   1,   1,   1,   1,   1,   1,   1,   1,   1,   1],\n",
       "         [ 10,  79,  23,  47, 219, 220,  29, 221,  17, 222, 223, 224, 225, 226,\n",
       "           14,   1,   1,   1,   1,   1,   1,   1,   1,   1,   1,   1],\n",
       "         [ 10,  62, 229,  54, 230, 231,  54, 232,  14,   1,   1,   1,   1,   1,\n",
       "            1,   1,   1,   1,   1,   1,   1,   1,   1,   1,   1,   1],\n",
       "         [ 43,  27, 209, 235,  54, 236, 237,  14,   1,   1,   1,   1,   1,   1,\n",
       "            1,   1,   1,   1,   1,   1,   1,   1,   1,   1,   1,   1],\n",
       "         [ 10,  19,  45, 240, 241, 242,  14,   1,   1,   1,   1,   1,   1,   1,\n",
       "            1,   1,   1,   1,   1,   1,   1,   1,   1,   1,   1,   1]]),\n",
       " 'q2': tensor([[  2,   3,  15,   6,   7,   8,   9,  10,   4,   3,  16,  17,  14,   1,\n",
       "            1,   1,   1,   1,   1,   1,   1,   1,   1,   1,   1,   1],\n",
       "         [ 18,  19,  23,  20,  21,  22,  24,  14,   1,   1,   1,   1,   1,   1,\n",
       "            1,   1,   1,   1,   1,   1,   1,   1,   1,   1,   1,   1],\n",
       "         [ 25,  26,  27,  28,  29,  30,  31,  14,   1,   1,   1,   1,   1,   1,\n",
       "            1,   1,   1,   1,   1,   1,   1,   1,   1,   1,   1,   1],\n",
       "         [ 10,  19,  38,  39,  40,  41,  33,  42,  12,  25,  43,   3,  44,  45,\n",
       "           36,  42,  14,   1,   1,   1,   1,   1,   1,   1,   1,   1],\n",
       "         [ 25,  43,  27,  49,  48,  41,  47,  48,  14,   1,   1,   1,   1,   1,\n",
       "            1,   1,   1,   1,   1,   1,   1,   1,   1,   1,   1,   1],\n",
       "         [ 13,  59,  60,   7,  53,  34,  55,  57,  58,  14,   1,   1,   1,   1,\n",
       "            1,   1,   1,   1,   1,   1,   1,   1,   1,   1,   1,   1],\n",
       "         [  2,  61,  70,  63,  64,  12,  65,  10,  59,   5,  71,  66,  57,  23,\n",
       "           72,  21,  73,  14,   1,   1,   1,   1,   1,   1,   1,   1],\n",
       "         [ 10,  19,  23,  47,  74,  78,  76,  57,  77,  14,   1,   1,   1,   1,\n",
       "            1,   1,   1,   1,   1,   1,   1,   1,   1,   1,   1,   1],\n",
       "         [ 10,  79,  23,  84,  85,  81,  82,  21,  86,  87,  14,   1,   1,   1,\n",
       "            1,   1,   1,   1,   1,   1,   1,   1,   1,   1,   1,   1],\n",
       "         [ 10,  79,  95,  80,  88,  89,  41,  96,  92,  97,  93,  12,  94,  14,\n",
       "            1,   1,   1,   1,   1,   1,   1,   1,   1,   1,   1,   1],\n",
       "         [ 25,  26,  27,  98,  54,  99, 100,  14,   1,   1,   1,   1,   1,   1,\n",
       "            1,   1,   1,   1,   1,   1,   1,   1,   1,   1,   1,   1],\n",
       "         [ 10,  79,  23,  47, 107, 108, 103,  29, 101, 102,  14,   1,   1,   1,\n",
       "            1,   1,   1,   1,   1,   1,   1,   1,   1,   1,   1,   1],\n",
       "         [ 10,  19,  23, 109, 110, 112,  57,  58,  14,   1,   1,   1,   1,   1,\n",
       "            1,   1,   1,   1,   1,   1,   1,   1,   1,   1,   1,   1],\n",
       "         [ 25,  26,  27, 120,  34, 115, 121, 122, 114,   2,  34, 116, 123,  50,\n",
       "           51, 124, 125,  14,   1,   1,   1,   1,   1,   1,   1,   1],\n",
       "         [126,  26,  27, 120, 127, 128,  17, 132, 129, 133,  29, 131,  14,   1,\n",
       "            1,   1,   1,   1,   1,   1,   1,   1,   1,   1,   1,   1],\n",
       "         [ 10,  43,  23, 135, 139, 134, 140,  14,   1,   1,   1,   1,   1,   1,\n",
       "            1,   1,   1,   1,   1,   1,   1,   1,   1,   1,   1,   1],\n",
       "         [ 10,  15,  23, 109, 142, 145,  21,  23, 144,  61,  14,   1,   1,   1,\n",
       "            1,   1,   1,   1,   1,   1,   1,   1,   1,   1,   1,   1],\n",
       "         [ 59,  23, 157,  41, 158, 148,  12, 149, 159, 151, 152,  41, 160, 155,\n",
       "          156,  14,   1,   1,   1,   1,   1,   1,   1,   1,   1,   1],\n",
       "         [ 10,  19, 161, 162,  14,   1,   1,   1,   1,   1,   1,   1,   1,   1,\n",
       "            1,   1,   1,   1,   1,   1,   1,   1,   1,   1,   1,   1],\n",
       "         [ 25,  26,  27, 164,   2,  27, 165,  54, 166,  12,  25,  26,  27,   5,\n",
       "          167,  21,  54, 166,  14,   1,   1,   1,   1,   1,   1,   1],\n",
       "         [ 10,  79,  23, 168, 169,  57, 170, 171, 172, 173,  23, 174,  29, 182,\n",
       "           14,   1,   1,   1,   1,   1,   1,   1,   1,   1,   1,   1],\n",
       "         [ 10,  79,  95, 186,  21, 183,  11, 184,  29,  23, 185,  14,   1,   1,\n",
       "            1,   1,   1,   1,   1,   1,   1,   1,   1,   1,   1,   1],\n",
       "         [ 10,  19,  23, 191,  63, 188,  12, 189, 190,  14,   1,   1,   1,   1,\n",
       "            1,   1,   1,   1,   1,   1,   1,   1,   1,   1,   1,   1],\n",
       "         [ 10,  19,  23, 196,  21,  23, 197, 198,  21,  64,  29,  23, 195,  14,\n",
       "            1,   1,   1,   1,   1,   1,   1,   1,   1,   1,   1,   1],\n",
       "         [ 25,  26,  27, 199,  10,  27, 200, 122,  34, 201,  14,   1,   1,   1,\n",
       "            1,   1,   1,   1,   1,   1,   1,   1,   1,   1,   1,   1],\n",
       "         [ 25,  26,  27, 202,  34, 204, 203, 205,  14,   1,   1,   1,   1,   1,\n",
       "            1,   1,   1,   1,   1,   1,   1,   1,   1,   1,   1,   1],\n",
       "         [141, 211, 209, 132, 207, 212, 213, 214,  23, 189,  21,  33,  14,   1,\n",
       "            1,   1,   1,   1,   1,   1,   1,   1,   1,   1,   1,   1],\n",
       "         [ 25,  19, 215, 216, 218,  14,   1,   1,   1,   1,   1,   1,   1,   1,\n",
       "            1,   1,   1,   1,   1,   1,   1,   1,   1,   1,   1,   1],\n",
       "         [227,  19,  23,  47, 219, 228,  17, 222,  29, 221,  14,   1,   1,   1,\n",
       "            1,   1,   1,   1,   1,   1,   1,   1,   1,   1,   1,   1],\n",
       "         [ 10,  62,  29,  23, 230, 233,   3, 234,  29,  54, 232,  14,   1,   1,\n",
       "            1,   1,   1,   1,   1,   1,   1,   1,   1,   1,   1,   1],\n",
       "         [ 43, 236, 238, 209,  43, 239,  14,   1,   1,   1,   1,   1,   1,   1,\n",
       "            1,   1,   1,   1,   1,   1,   1,   1,   1,   1,   1,   1],\n",
       "         [ 10, 141,  45, 240, 241, 242,  12,  13,  14,   1,   1,   1,   1,   1,\n",
       "            1,   1,   1,   1,   1,   1,   1,   1,   1,   1,   1,   1]])}"
      ]
     },
     "execution_count": 16,
     "metadata": {},
     "output_type": "execute_result"
    }
   ],
   "source": [
    "next(iter(dl))"
   ]
  },
  {
   "cell_type": "code",
   "execution_count": null,
   "metadata": {},
   "outputs": [],
   "source": []
  }
 ],
 "metadata": {
  "kernelspec": {
   "display_name": "Python 3",
   "language": "python",
   "name": "python3"
  },
  "language_info": {
   "codemirror_mode": {
    "name": "ipython",
    "version": 3
   },
   "file_extension": ".py",
   "mimetype": "text/x-python",
   "name": "python",
   "nbconvert_exporter": "python",
   "pygments_lexer": "ipython3",
   "version": "3.8.3"
  }
 },
 "nbformat": 4,
 "nbformat_minor": 4
}
